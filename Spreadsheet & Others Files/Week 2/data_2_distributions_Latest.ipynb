import numpy as np
import pandas as pd

df = pd.read_excel('data_2.xlsx')

print(df.head())

import matplotlib.pyplot as plt
plt.hist(df['obs'])
plt.show()

df.describe()

stats_labels = ['Mean Observed', 'Variance Observed', 'Skew Observed', 'Kurt Observed']
stats_values = [round(df['obs'].mean(), 2), round(df['obs'].var(), 2), round(df['obs'].skew(),2), round(df['obs'].kurt(),2)]
print(set(zip(stats_labels, stats_values)))

import statsmodels.api as sm
import scipy.stats as stats
from scipy.stats import norm, uniform, poisson
from statsmodels.graphics.gofplots import qqplot

sm.qqplot(df['obs'], stats.uniform, fit = True, line = '45')
plt.show()

import scipy.stats as stats
stats.probplot(df['obs'], dist='uniform', plot=plt)
plt.show()

# NULL HYPOTHESIS: The given data follows Uniform distribution.
# ALTERNATE HYPOTHESIS: The given data does not follow Uniform distribution

df['Bins'] = pd.cut(df['obs'], bins=10)
df.head()

df_2 = pd.DataFrame()
df_2 ["Observed Frequency"] = (df.groupby('Bins').count())
df_2

mean = df_2["Observed Frequency"].mean()
df_2["Expected Frequency"] = mean
df_2

from scipy.stats import chisquare

chisquare(df_2['Observed Frequency'], df_2['Expected Frequency'])

from scipy.stats import chi2
chi2.ppf(0.95,9)